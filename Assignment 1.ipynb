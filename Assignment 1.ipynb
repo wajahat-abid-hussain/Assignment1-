{
 "cells": [
  {
   "cell_type": "code",
   "execution_count": 24,
   "metadata": {},
   "outputs": [
    {
     "name": "stdout",
     "output_type": "stream",
     "text": [
      "Enter Radius Of the Circle.5\n",
      "input radius is 0.5\n",
      "Area of circle is  0.7855\n"
     ]
    }
   ],
   "source": [
    "#Area_of_a_circle\n",
    "a=float(input(\"Enter Radius Of the Circle\"))\n",
    "b=((3.142)*(a*a))\n",
    "print(\"input radius is\" ,a)\n",
    "print(\"Area of circle is \" ,b)"
   ]
  },
  {
   "cell_type": "code",
   "execution_count": 23,
   "metadata": {},
   "outputs": [
    {
     "name": "stdout",
     "output_type": "stream",
     "text": [
      "enter number-3\n",
      "Negative\n"
     ]
    }
   ],
   "source": [
    "#Positive/negative/zero\n",
    "c=float(input(\"enter number\"))\n",
    "d=0\n",
    "if c>d:\n",
    "    print(\"Positve\")\n",
    "elif c<d: \n",
    "    print(\"Negative\")\n",
    "else:\n",
    "    print(\"zero\")"
   ]
  },
  {
   "cell_type": "code",
   "execution_count": 1,
   "metadata": {},
   "outputs": [
    {
     "name": "stdout",
     "output_type": "stream",
     "text": [
      "enter nominator7\n",
      "enter denominator4\n",
      "7.0 is not completely divisible by 4.0\n"
     ]
    }
   ],
   "source": [
    "#Nominator_divisible_by_Denominator\n",
    "c=float(input(\"enter nominator\"))\n",
    "d=float(input(\"enter denominator\"))\n",
    "if c%d==0:\n",
    "    print(c,\"Perfectly Divisible by\",d)\n",
    "else:\n",
    "    print(c,\"is not completely divisible by\",d)"
   ]
  },
  {
   "cell_type": "code",
   "execution_count": 5,
   "metadata": {},
   "outputs": [
    {
     "name": "stdout",
     "output_type": "stream",
     "text": [
      "Enter  [dd/mm/yyyy]:11/05/2018\n",
      "Enter  [dd/mm/yyyy]:19/05/2018\n",
      "days 8 day b\\w 2018-05-11 & 2018-05-19\n"
     ]
    }
   ],
   "source": [
    "#Days_calculator\n",
    "import datetime\n",
    "def days(a,b):\n",
    "    return (b-a).days\n",
    "a=input(\"Enter  [dd/mm/yyyy]:\")\n",
    "b=input(\"Enter  [dd/mm/yyyy]:\")\n",
    "c=a.split('/')\n",
    "d=b.split('/')\n",
    "d1,m1,y1=int(c[0]),int(c[1]),int(c[2])\n",
    "d2,m2,y2=int(d[0]),int(d[1]),int(d[2])\n",
    "a=datetime.date(y1,m1,d1)\n",
    "b=datetime.date(y2,m2,d2)\n",
    "print(\"days\",days(a,b),\"day b\\w\",a ,\"&\",b)\n"
   ]
  },
  {
   "cell_type": "code",
   "execution_count": 6,
   "metadata": {},
   "outputs": [
    {
     "name": "stdout",
     "output_type": "stream",
     "text": [
      "Enter Radius Of the sphere1\n",
      "the radius entered is  1.0 and a volume of sphere is  4.189333333333333\n"
     ]
    }
   ],
   "source": [
    "#volume_sphere\n",
    "a=float(input(\"Enter Radius Of the sphere\"))\n",
    "b=(4/3)*(3.142)*(a*a*a)\n",
    "print(\"the radius entered is \",a,\"and a volume of sphere is \",b)"
   ]
  },
  {
   "cell_type": "code",
   "execution_count": 9,
   "metadata": {},
   "outputs": [
    {
     "name": "stdout",
     "output_type": "stream",
     "text": [
      "Enter textpolo\n",
      "time of test copy6\n",
      "polopolopolopolopolopolo\n"
     ]
    }
   ],
   "source": [
    "#string_copies\n",
    "a=str(input(\"Enter text\"))\n",
    "b=int(input(\"time of test copy\"))\n",
    "c=(a*b)\n",
    "print(c)\n"
   ]
  },
  {
   "cell_type": "code",
   "execution_count": 12,
   "metadata": {},
   "outputs": [
    {
     "name": "stdout",
     "output_type": "stream",
     "text": [
      "Enter number7\n",
      "Odd number entered\n"
     ]
    }
   ],
   "source": [
    "#even/odd\n",
    "a=int(input(\"Enter number\"))\n",
    "if a%2==0:\n",
    " print(\"even number entered\")\n",
    "else:\n",
    " print(\"Odd number entered\")"
   ]
  },
  {
   "cell_type": "code",
   "execution_count": 2,
   "metadata": {},
   "outputs": [
    {
     "name": "stdout",
     "output_type": "stream",
     "text": [
      "Enter AlphabetL\n",
      "L is not vowel\n"
     ]
    }
   ],
   "source": [
    "#vowels\n",
    "a=str(input(\"Enter Alphabet\"))\n",
    "b=['A','E','I','O','U','a','e','i','o','u']\n",
    "if a==b[0] or a==b[1] or a==b[2] or a==b[3] or a==b[4] or a==b[5] or a==b[6] or a==b[7] or a==b[9] or a==b[8]:\n",
    "  print(\"Vowel Entered\")\n",
    "else:\n",
    "  print(a,\"is not vowel\")"
   ]
  },
  {
   "cell_type": "code",
   "execution_count": 1,
   "metadata": {},
   "outputs": [
    {
     "name": "stdout",
     "output_type": "stream",
     "text": [
      "Enter height3\n",
      "Enter Base4\n",
      "base 4.0 height 3.0 the Area of a triangle is 6.0\n"
     ]
    }
   ],
   "source": [
    "#area_of_triangle\n",
    "a=float(input(\"Enter height\"))\n",
    "b=float(input(\"Enter Base\"))\n",
    "c=((a*b)/2)\n",
    "print(\"base\",b,\"height\",a,\"the Area of a triangle is\",c)"
   ]
  },
  {
   "cell_type": "code",
   "execution_count": 6,
   "metadata": {},
   "outputs": [
    {
     "name": "stdout",
     "output_type": "stream",
     "text": [
      "Enter Rate of interest.1\n",
      "Enter Principal Amount10000\n",
      "Enter Year5\n",
      "after 5.0 year your principal amount 10000.0 over rate of interest 0.1 will be 10050.100100050004\n"
     ]
    }
   ],
   "source": [
    "#future_compound_interestcalculator\n",
    "r=float(input(\"Enter Rate of interest\"))\n",
    "p=float(input(\"Enter Principal Amount\"))\n",
    "t=float(input(\"Enter Year\"))\n",
    "c=1+(r/100)\n",
    "f=p*pow(c,t)\n",
    "print(\"after\",t,\"year\",\"your principal amount\",p,\"over rate of interest\",r,\"will be\",f)"
   ]
  },
  {
   "cell_type": "code",
   "execution_count": 10,
   "metadata": {},
   "outputs": [
    {
     "name": "stdout",
     "output_type": "stream",
     "text": [
      "Enter X12\n",
      "Enter Y14\n",
      "Enter X24\n",
      "Enter Y24\n",
      "distance is between coordinates is 2.0\n"
     ]
    }
   ],
   "source": [
    "#Co=ordinate_distance\n",
    "x1=float(input(\"Enter X1\"))\n",
    "y1=float(input(\"Enter Y1\"))\n",
    "x2=float(input(\"Enter X2\"))\n",
    "y2=float(input(\"Enter Y2\"))\n",
    "a=(x2-x1)\n",
    "b=(y2-y1)\n",
    "c=(((a)*(a))+((b)*(b)))\n",
    "d=pow(c,(1/2))\n",
    "print(\"distance is between coordinates is\", d)\n"
   ]
  },
  {
   "cell_type": "code",
   "execution_count": 12,
   "metadata": {},
   "outputs": [
    {
     "name": "stdout",
     "output_type": "stream",
     "text": [
      "Enter height in ft5\n",
      "5.0 is equal to  152.0 in cm\n"
     ]
    }
   ],
   "source": [
    "#ft_to_cm\n",
    "a=float(input(\"Enter height in ft\"))\n",
    "b=(a*(30.40))\n",
    "print(a,\"is equal to \",b,\"in cm\")"
   ]
  },
  {
   "cell_type": "code",
   "execution_count": 2,
   "metadata": {},
   "outputs": [
    {
     "name": "stdout",
     "output_type": "stream",
     "text": [
      "Enter height in cm180\n",
      "Enter Weight in Kg75\n",
      "23.148148148148145\n"
     ]
    }
   ],
   "source": [
    "#BMI-Calculator\n",
    "a=float(input(\"Enter height in cm\"))\n",
    "b=float(input(\"Enter Weight in Kg\"))\n",
    "c=a/100\n",
    "d=b/(c*c)\n",
    "print(d)"
   ]
  },
  {
   "cell_type": "code",
   "execution_count": 15,
   "metadata": {},
   "outputs": [
    {
     "name": "stdout",
     "output_type": "stream",
     "text": [
      "Enter value of n = 5\n",
      "15.0\n"
     ]
    }
   ],
   "source": [
    "#sum\n",
    "n=int(input(\"Enter value of n = \"))\n",
    "a=(n*(n+1))/2\n",
    "print(a)"
   ]
  },
  {
   "cell_type": "code",
   "execution_count": 27,
   "metadata": {},
   "outputs": [
    {
     "name": "stdout",
     "output_type": "stream",
     "text": [
      "Enter Decimal value5\n",
      "0b101\n"
     ]
    }
   ],
   "source": [
    "#decimal-to-binary\n",
    "a=int(input(\"Enter Decimal value\"))\n",
    "x=bin(a)\n",
    "print(x)\n"
   ]
  },
  {
   "cell_type": "code",
   "execution_count": 28,
   "metadata": {},
   "outputs": [
    {
     "name": "stdout",
     "output_type": "stream",
     "text": [
      "Enter binary value10101\n",
      "21\n"
     ]
    }
   ],
   "source": [
    "#-binary-to=decimal\n",
    "a=(input(\"Enter binary value\"))\n",
    "x=int(a,2)\n",
    "print(x)\n"
   ]
  },
  {
   "cell_type": "code",
   "execution_count": 4,
   "metadata": {},
   "outputs": [
    {
     "name": "stdout",
     "output_type": "stream",
     "text": [
      "Enter textwearepiaicians\n",
      "8\n",
      "6\n"
     ]
    }
   ],
   "source": [
    "#vowel/consonants\n",
    "a=input(\"Enter text\")\n",
    "v= 0\n",
    "c= 0\n",
    "for i in a:\n",
    "    if(i == 'a' or i == 'e' or i == 'i' or i == 'o' or i == 'u'\n",
    "       or i == 'A' or i == 'E' or i == 'I' or i == 'O' or i == 'U'):\n",
    "        v = v + 1\n",
    "    else:\n",
    "        c = c + 1\n",
    "print(v)        \n",
    "print(c)"
   ]
  },
  {
   "cell_type": "code",
   "execution_count": 2,
   "metadata": {},
   "outputs": [
    {
     "name": "stdout",
     "output_type": "stream",
     "text": [
      "Enter Textwew\n",
      "wew  is palindrome entered\n"
     ]
    }
   ],
   "source": [
    "#palindrome_tester\n",
    "a=str(input(\"Enter Text\"))\n",
    "b=[]\n",
    "b.append(a)\n",
    "if a[0]==a[-1]:\n",
    "    print(a,\" is palindrome entered\")\n",
    "else:\n",
    "    print(a,\" is not palindrome\")"
   ]
  },
  {
   "cell_type": "code",
   "execution_count": 20,
   "metadata": {},
   "outputs": [
    {
     "name": "stdout",
     "output_type": "stream",
     "text": [
      "enter sentence = wajahat abid5@gmail.com\n",
      "Number =  1\n",
      "Alphabets =  19\n",
      "character =  2\n",
      "spaces =  1\n"
     ]
    }
   ],
   "source": [
    "#alphabet/number/character\n",
    "a=input(\"enter sentence = \")\n",
    "char=0\n",
    "alpha=0\n",
    "num=0\n",
    "space=0\n",
    "for i in range(len(a)):\n",
    "    if (a[i].isalpha()):\n",
    "        alpha=alpha+1\n",
    "    elif (a[i].isdigit()):\n",
    "        num=num+1\n",
    "    elif (a[i].isspace()):\n",
    "        space=space+1\n",
    "    else:\n",
    "        char=char+1\n",
    "print(\"Number = \",num)\n",
    "print(\"Alphabets = \",alpha)\n",
    "print(\"character = \",char)\n",
    "print(\"spaces = \" ,space)\n",
    "        \n",
    "    \n"
   ]
  },
  {
   "cell_type": "code",
   "execution_count": 30,
   "metadata": {
    "scrolled": true
   },
   "outputs": [
    {
     "name": "stdout",
     "output_type": "stream",
     "text": [
      "\n",
      "* \n",
      "* * \n",
      "* * * \n",
      "* * * * \n",
      "* * * * * \n",
      "* * * * \n",
      "* * * \n",
      "* * \n",
      "* \n"
     ]
    }
   ],
   "source": [
    "#pattern \n",
    "#* \n",
    "#* * \n",
    "#* * * \n",
    "#* * * * \n",
    "#* * * * * \n",
    "#* * * * \n",
    "#* * * \n",
    "#* * \n",
    "#* \n",
    "\n",
    "for i in range(5):\n",
    "    for j in range(i):\n",
    "        print(\"*\",end=\" \")\n",
    "    print('')\n",
    "for i in range(5,0,-1):\n",
    "    for j in range(i):\n",
    "        print(\"*\",end=\" \")\n",
    "    print('')"
   ]
  },
  {
   "cell_type": "code",
   "execution_count": 1,
   "metadata": {},
   "outputs": [
    {
     "name": "stdout",
     "output_type": "stream",
     "text": [
      "Enter a number8\n",
      "1\n",
      "12\n",
      "123\n",
      "1234\n",
      "12345\n",
      "123456\n",
      "1234567\n",
      "12345678\n",
      "1234567\n",
      "123456\n",
      "12345\n",
      "1234\n",
      "123\n",
      "12\n",
      "1\n"
     ]
    }
   ],
   "source": [
    "#pattern\n",
    "#1\n",
    "#12\n",
    "#123\n",
    "#1234\n",
    "#12345\n",
    "#1234\n",
    "#123\n",
    "#12\n",
    "#1\n",
    "n=int(input(\"Enter a number\"))\n",
    "x=\"\"\n",
    "for i in range(1,n+1):\n",
    "    x = x + str(i)\n",
    "    print(x)\n",
    "    \n",
    "for i in range(n-1,0,-1):\n",
    "    print(x[:i])"
   ]
  },
  {
   "cell_type": "code",
   "execution_count": 2,
   "metadata": {},
   "outputs": [
    {
     "name": "stdout",
     "output_type": "stream",
     "text": [
      "Enter a number3\n",
      "1\n",
      "22\n",
      "333\n"
     ]
    }
   ],
   "source": [
    "#1\n",
    "#22\n",
    "#333\n",
    "#4444\n",
    "#55555\n",
    "#666666\n",
    "#7777777\n",
    "#88888888\n",
    "#999999999\n",
    "n=int(input(\"Enter a number\"))\n",
    "for i in range(1,n+1):\n",
    "    for j in range(1,i+1):\n",
    "         print(i,end=\"\")\n",
    "    print()"
   ]
  },
  {
   "cell_type": "code",
   "execution_count": null,
   "metadata": {},
   "outputs": [],
   "source": []
  }
 ],
 "metadata": {
  "kernelspec": {
   "display_name": "Python 3",
   "language": "python",
   "name": "python3"
  },
  "language_info": {
   "codemirror_mode": {
    "name": "ipython",
    "version": 3
   },
   "file_extension": ".py",
   "mimetype": "text/x-python",
   "name": "python",
   "nbconvert_exporter": "python",
   "pygments_lexer": "ipython3",
   "version": "3.7.3"
  }
 },
 "nbformat": 4,
 "nbformat_minor": 2
}
